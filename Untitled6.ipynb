{
  "nbformat": 4,
  "nbformat_minor": 0,
  "metadata": {
    "colab": {
      "provenance": [],
      "authorship_tag": "ABX9TyP3i33vkJ80OfEjVQpSa390",
      "include_colab_link": true
    },
    "kernelspec": {
      "name": "python3",
      "display_name": "Python 3"
    },
    "language_info": {
      "name": "python"
    }
  },
  "cells": [
    {
      "cell_type": "markdown",
      "metadata": {
        "id": "view-in-github",
        "colab_type": "text"
      },
      "source": [
        "<a href=\"https://colab.research.google.com/github/dhanadharshu247/Voice-To-Text-Converter/blob/main/Untitled6.ipynb\" target=\"_parent\"><img src=\"https://colab.research.google.com/assets/colab-badge.svg\" alt=\"Open In Colab\"/></a>"
      ]
    },
    {
      "cell_type": "code",
      "execution_count": 1,
      "metadata": {
        "colab": {
          "base_uri": "https://localhost:8080/"
        },
        "id": "CBYShoNKrwBn",
        "outputId": "9d5a0b97-302b-4404-b3dc-f00ef783a9ca"
      },
      "outputs": [
        {
          "output_type": "stream",
          "name": "stdout",
          "text": [
            "Epoch 1/30\n"
          ]
        },
        {
          "output_type": "stream",
          "name": "stderr",
          "text": [
            "/usr/local/lib/python3.12/dist-packages/keras/src/layers/core/dense.py:93: UserWarning: Do not pass an `input_shape`/`input_dim` argument to a layer. When using Sequential models, prefer using an `Input(shape)` object as the first layer in the model instead.\n",
            "  super().__init__(activity_regularizer=activity_regularizer, **kwargs)\n"
          ]
        },
        {
          "output_type": "stream",
          "name": "stdout",
          "text": [
            "\u001b[1m50/50\u001b[0m \u001b[32m━━━━━━━━━━━━━━━━━━━━\u001b[0m\u001b[37m\u001b[0m \u001b[1m2s\u001b[0m 7ms/step - accuracy: 0.6136 - loss: 0.6534 - val_accuracy: 0.8000 - val_loss: 0.5426\n",
            "Epoch 2/30\n",
            "\u001b[1m50/50\u001b[0m \u001b[32m━━━━━━━━━━━━━━━━━━━━\u001b[0m\u001b[37m\u001b[0m \u001b[1m0s\u001b[0m 3ms/step - accuracy: 0.7295 - loss: 0.5363 - val_accuracy: 0.8500 - val_loss: 0.4267\n",
            "Epoch 3/30\n",
            "\u001b[1m50/50\u001b[0m \u001b[32m━━━━━━━━━━━━━━━━━━━━\u001b[0m\u001b[37m\u001b[0m \u001b[1m0s\u001b[0m 4ms/step - accuracy: 0.8239 - loss: 0.4326 - val_accuracy: 0.8750 - val_loss: 0.3433\n",
            "Epoch 4/30\n",
            "\u001b[1m50/50\u001b[0m \u001b[32m━━━━━━━━━━━━━━━━━━━━\u001b[0m\u001b[37m\u001b[0m \u001b[1m0s\u001b[0m 3ms/step - accuracy: 0.8457 - loss: 0.3581 - val_accuracy: 0.8800 - val_loss: 0.3053\n",
            "Epoch 5/30\n",
            "\u001b[1m50/50\u001b[0m \u001b[32m━━━━━━━━━━━━━━━━━━━━\u001b[0m\u001b[37m\u001b[0m \u001b[1m0s\u001b[0m 3ms/step - accuracy: 0.8772 - loss: 0.2971 - val_accuracy: 0.8900 - val_loss: 0.2756\n",
            "Epoch 6/30\n",
            "\u001b[1m50/50\u001b[0m \u001b[32m━━━━━━━━━━━━━━━━━━━━\u001b[0m\u001b[37m\u001b[0m \u001b[1m0s\u001b[0m 4ms/step - accuracy: 0.8972 - loss: 0.2492 - val_accuracy: 0.8900 - val_loss: 0.2560\n",
            "Epoch 7/30\n",
            "\u001b[1m50/50\u001b[0m \u001b[32m━━━━━━━━━━━━━━━━━━━━\u001b[0m\u001b[37m\u001b[0m \u001b[1m0s\u001b[0m 4ms/step - accuracy: 0.8977 - loss: 0.2174 - val_accuracy: 0.9000 - val_loss: 0.2301\n",
            "Epoch 8/30\n",
            "\u001b[1m50/50\u001b[0m \u001b[32m━━━━━━━━━━━━━━━━━━━━\u001b[0m\u001b[37m\u001b[0m \u001b[1m0s\u001b[0m 4ms/step - accuracy: 0.9028 - loss: 0.1991 - val_accuracy: 0.9050 - val_loss: 0.2186\n",
            "Epoch 9/30\n",
            "\u001b[1m50/50\u001b[0m \u001b[32m━━━━━━━━━━━━━━━━━━━━\u001b[0m\u001b[37m\u001b[0m \u001b[1m0s\u001b[0m 4ms/step - accuracy: 0.9086 - loss: 0.2067 - val_accuracy: 0.9050 - val_loss: 0.2036\n",
            "Epoch 10/30\n",
            "\u001b[1m50/50\u001b[0m \u001b[32m━━━━━━━━━━━━━━━━━━━━\u001b[0m\u001b[37m\u001b[0m \u001b[1m0s\u001b[0m 4ms/step - accuracy: 0.9106 - loss: 0.1981 - val_accuracy: 0.9050 - val_loss: 0.1866\n",
            "Epoch 11/30\n",
            "\u001b[1m50/50\u001b[0m \u001b[32m━━━━━━━━━━━━━━━━━━━━\u001b[0m\u001b[37m\u001b[0m \u001b[1m0s\u001b[0m 4ms/step - accuracy: 0.9318 - loss: 0.1750 - val_accuracy: 0.9350 - val_loss: 0.1660\n",
            "Epoch 12/30\n",
            "\u001b[1m50/50\u001b[0m \u001b[32m━━━━━━━━━━━━━━━━━━━━\u001b[0m\u001b[37m\u001b[0m \u001b[1m0s\u001b[0m 3ms/step - accuracy: 0.9276 - loss: 0.1809 - val_accuracy: 0.9400 - val_loss: 0.1554\n",
            "Epoch 13/30\n",
            "\u001b[1m50/50\u001b[0m \u001b[32m━━━━━━━━━━━━━━━━━━━━\u001b[0m\u001b[37m\u001b[0m \u001b[1m0s\u001b[0m 4ms/step - accuracy: 0.9172 - loss: 0.2090 - val_accuracy: 0.9350 - val_loss: 0.1527\n",
            "Epoch 14/30\n",
            "\u001b[1m50/50\u001b[0m \u001b[32m━━━━━━━━━━━━━━━━━━━━\u001b[0m\u001b[37m\u001b[0m \u001b[1m0s\u001b[0m 7ms/step - accuracy: 0.9478 - loss: 0.1401 - val_accuracy: 0.9350 - val_loss: 0.1435\n",
            "Epoch 15/30\n",
            "\u001b[1m50/50\u001b[0m \u001b[32m━━━━━━━━━━━━━━━━━━━━\u001b[0m\u001b[37m\u001b[0m \u001b[1m1s\u001b[0m 12ms/step - accuracy: 0.9275 - loss: 0.1584 - val_accuracy: 0.9450 - val_loss: 0.1447\n",
            "Epoch 16/30\n",
            "\u001b[1m50/50\u001b[0m \u001b[32m━━━━━━━━━━━━━━━━━━━━\u001b[0m\u001b[37m\u001b[0m \u001b[1m1s\u001b[0m 16ms/step - accuracy: 0.9428 - loss: 0.1359 - val_accuracy: 0.9500 - val_loss: 0.1260\n",
            "Epoch 17/30\n",
            "\u001b[1m50/50\u001b[0m \u001b[32m━━━━━━━━━━━━━━━━━━━━\u001b[0m\u001b[37m\u001b[0m \u001b[1m1s\u001b[0m 10ms/step - accuracy: 0.9495 - loss: 0.1373 - val_accuracy: 0.9600 - val_loss: 0.1198\n",
            "Epoch 18/30\n",
            "\u001b[1m50/50\u001b[0m \u001b[32m━━━━━━━━━━━━━━━━━━━━\u001b[0m\u001b[37m\u001b[0m \u001b[1m0s\u001b[0m 8ms/step - accuracy: 0.9393 - loss: 0.1383 - val_accuracy: 0.9550 - val_loss: 0.1129\n",
            "Epoch 19/30\n",
            "\u001b[1m50/50\u001b[0m \u001b[32m━━━━━━━━━━━━━━━━━━━━\u001b[0m\u001b[37m\u001b[0m \u001b[1m1s\u001b[0m 8ms/step - accuracy: 0.9405 - loss: 0.1298 - val_accuracy: 0.9650 - val_loss: 0.1094\n",
            "Epoch 20/30\n",
            "\u001b[1m50/50\u001b[0m \u001b[32m━━━━━━━━━━━━━━━━━━━━\u001b[0m\u001b[37m\u001b[0m \u001b[1m1s\u001b[0m 8ms/step - accuracy: 0.9377 - loss: 0.1328 - val_accuracy: 0.9650 - val_loss: 0.0991\n",
            "Epoch 21/30\n",
            "\u001b[1m50/50\u001b[0m \u001b[32m━━━━━━━━━━━━━━━━━━━━\u001b[0m\u001b[37m\u001b[0m \u001b[1m1s\u001b[0m 12ms/step - accuracy: 0.9600 - loss: 0.1080 - val_accuracy: 0.9550 - val_loss: 0.1048\n",
            "Epoch 22/30\n",
            "\u001b[1m50/50\u001b[0m \u001b[32m━━━━━━━━━━━━━━━━━━━━\u001b[0m\u001b[37m\u001b[0m \u001b[1m1s\u001b[0m 10ms/step - accuracy: 0.9456 - loss: 0.1314 - val_accuracy: 0.9550 - val_loss: 0.0982\n",
            "Epoch 23/30\n",
            "\u001b[1m50/50\u001b[0m \u001b[32m━━━━━━━━━━━━━━━━━━━━\u001b[0m\u001b[37m\u001b[0m \u001b[1m1s\u001b[0m 13ms/step - accuracy: 0.9636 - loss: 0.1008 - val_accuracy: 0.9650 - val_loss: 0.0956\n",
            "Epoch 24/30\n",
            "\u001b[1m50/50\u001b[0m \u001b[32m━━━━━━━━━━━━━━━━━━━━\u001b[0m\u001b[37m\u001b[0m \u001b[1m1s\u001b[0m 15ms/step - accuracy: 0.9748 - loss: 0.0828 - val_accuracy: 0.9600 - val_loss: 0.0910\n",
            "Epoch 25/30\n",
            "\u001b[1m50/50\u001b[0m \u001b[32m━━━━━━━━━━━━━━━━━━━━\u001b[0m\u001b[37m\u001b[0m \u001b[1m1s\u001b[0m 10ms/step - accuracy: 0.9631 - loss: 0.0994 - val_accuracy: 0.9600 - val_loss: 0.0833\n",
            "Epoch 26/30\n",
            "\u001b[1m50/50\u001b[0m \u001b[32m━━━━━━━━━━━━━━━━━━━━\u001b[0m\u001b[37m\u001b[0m \u001b[1m1s\u001b[0m 9ms/step - accuracy: 0.9606 - loss: 0.0931 - val_accuracy: 0.9650 - val_loss: 0.0848\n",
            "Epoch 27/30\n",
            "\u001b[1m50/50\u001b[0m \u001b[32m━━━━━━━━━━━━━━━━━━━━\u001b[0m\u001b[37m\u001b[0m \u001b[1m0s\u001b[0m 5ms/step - accuracy: 0.9598 - loss: 0.1000 - val_accuracy: 0.9650 - val_loss: 0.0792\n",
            "Epoch 28/30\n",
            "\u001b[1m50/50\u001b[0m \u001b[32m━━━━━━━━━━━━━━━━━━━━\u001b[0m\u001b[37m\u001b[0m \u001b[1m0s\u001b[0m 4ms/step - accuracy: 0.9539 - loss: 0.1169 - val_accuracy: 0.9650 - val_loss: 0.0786\n",
            "Epoch 29/30\n",
            "\u001b[1m50/50\u001b[0m \u001b[32m━━━━━━━━━━━━━━━━━━━━\u001b[0m\u001b[37m\u001b[0m \u001b[1m0s\u001b[0m 4ms/step - accuracy: 0.9703 - loss: 0.0845 - val_accuracy: 0.9650 - val_loss: 0.0828\n",
            "Epoch 30/30\n",
            "\u001b[1m50/50\u001b[0m \u001b[32m━━━━━━━━━━━━━━━━━━━━\u001b[0m\u001b[37m\u001b[0m \u001b[1m0s\u001b[0m 3ms/step - accuracy: 0.9649 - loss: 0.1169 - val_accuracy: 0.9650 - val_loss: 0.0873\n",
            "Test Accuracy: 0.96\n",
            "\u001b[1m1/1\u001b[0m \u001b[32m━━━━━━━━━━━━━━━━━━━━\u001b[0m\u001b[37m\u001b[0m \u001b[1m0s\u001b[0m 71ms/step\n",
            "Loan Rejected\n"
          ]
        }
      ],
      "source": [
        "# Loan Approval Prediction using Deep Learning (Synthetic Dataset)\n",
        "import pandas as pd\n",
        "import numpy as np\n",
        "from sklearn.model_selection import train_test_split\n",
        "from sklearn.preprocessing import StandardScaler\n",
        "from tensorflow.keras.models import Sequential\n",
        "from tensorflow.keras.layers import Dense, Dropout\n",
        "\n",
        "# -----------------------\n",
        "# 1. Create Synthetic Dataset\n",
        "# -----------------------\n",
        "np.random.seed(42)\n",
        "n_samples = 1000\n",
        "\n",
        "df = pd.DataFrame({\n",
        "    \"Gender\": np.random.choice([0, 1], n_samples),   # 0=Female, 1=Male\n",
        "    \"Married\": np.random.choice([0, 1], n_samples),\n",
        "    \"Education\": np.random.choice([0, 1], n_samples), # 0=Graduate, 1=Not Graduate\n",
        "    \"Self_Employed\": np.random.choice([0, 1], n_samples),\n",
        "    \"ApplicantIncome\": np.random.randint(2000, 15000, n_samples),\n",
        "    \"CoapplicantIncome\": np.random.randint(0, 5000, n_samples),\n",
        "    \"LoanAmount\": np.random.randint(100, 700, n_samples),\n",
        "    \"Loan_Amount_Term\": np.random.choice([360, 120, 180, 240], n_samples),\n",
        "    \"Credit_History\": np.random.choice([0, 1], n_samples, p=[0.2, 0.8]),\n",
        "    \"Property_Area\": np.random.choice([0, 1, 2], n_samples), # 0=Rural,1=Semiurban,2=Urban\n",
        "})\n",
        "\n",
        "# Target (Loan Status) — simple rule-based generation\n",
        "df[\"Loan_Status\"] = (\n",
        "    (df[\"ApplicantIncome\"] > 4000) &\n",
        "    (df[\"Credit_History\"] == 1) &\n",
        "    (df[\"LoanAmount\"] < 500)\n",
        ").astype(int)\n",
        "\n",
        "# -----------------------\n",
        "# 2. Features & Labels\n",
        "# -----------------------\n",
        "X = df.drop(\"Loan_Status\", axis=1)\n",
        "y = df[\"Loan_Status\"]\n",
        "\n",
        "scaler = StandardScaler()\n",
        "X = scaler.fit_transform(X)\n",
        "\n",
        "X_train, X_test, y_train, y_test = train_test_split(X, y, test_size=0.2, random_state=42)\n",
        "\n",
        "# -----------------------\n",
        "# 3. Build Model\n",
        "# -----------------------\n",
        "model = Sequential([\n",
        "    Dense(64, activation='relu', input_shape=(X_train.shape[1],)),\n",
        "    Dropout(0.3),\n",
        "    Dense(32, activation='relu'),\n",
        "    Dropout(0.3),\n",
        "    Dense(1, activation='sigmoid')\n",
        "])\n",
        "\n",
        "model.compile(optimizer='adam', loss='binary_crossentropy', metrics=['accuracy'])\n",
        "\n",
        "# -----------------------\n",
        "# 4. Train\n",
        "# -----------------------\n",
        "model.fit(X_train, y_train, epochs=30, batch_size=16, validation_data=(X_test, y_test), verbose=1)\n",
        "\n",
        "# -----------------------\n",
        "# 5. Evaluate\n",
        "# -----------------------\n",
        "loss, accuracy = model.evaluate(X_test, y_test, verbose=0)\n",
        "print(f\"Test Accuracy: {accuracy:.2f}\")\n",
        "\n",
        "# -----------------------\n",
        "# 6. Predict a Sample\n",
        "# -----------------------\n",
        "sample = X_test[0].reshape(1, -1)\n",
        "prediction = model.predict(sample)\n",
        "print(\"Loan Approved\" if prediction[0][0] > 0.5 else \"Loan Rejected\")"
      ]
    }
  ]
}